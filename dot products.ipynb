{
 "cells": [
  {
   "cell_type": "code",
   "execution_count": 1,
   "metadata": {},
   "outputs": [],
   "source": [
    "import numpy as np"
   ]
  },
  {
   "cell_type": "code",
   "execution_count": 5,
   "metadata": {},
   "outputs": [],
   "source": [
    "mat1=np.random.randint(10,size=(3,5))"
   ]
  },
  {
   "cell_type": "code",
   "execution_count": 10,
   "metadata": {},
   "outputs": [],
   "source": [
    "mat2=np.random.randint(100,size=(3,6))"
   ]
  },
  {
   "cell_type": "code",
   "execution_count": 11,
   "metadata": {},
   "outputs": [
    {
     "data": {
      "text/plain": [
       "array([[3, 8, 5, 1, 2],\n",
       "       [9, 4, 2, 3, 3],\n",
       "       [0, 7, 2, 4, 4]])"
      ]
     },
     "execution_count": 11,
     "metadata": {},
     "output_type": "execute_result"
    }
   ],
   "source": [
    "mat1"
   ]
  },
  {
   "cell_type": "code",
   "execution_count": 12,
   "metadata": {},
   "outputs": [
    {
     "data": {
      "text/plain": [
       "array([[86, 64,  3, 67, 31, 79],\n",
       "       [67, 90, 94, 34, 89, 79],\n",
       "       [10, 73, 17, 69, 56,  3]])"
      ]
     },
     "execution_count": 12,
     "metadata": {},
     "output_type": "execute_result"
    }
   ],
   "source": [
    "mat2"
   ]
  },
  {
   "cell_type": "code",
   "execution_count": 25,
   "metadata": {},
   "outputs": [],
   "source": [
    "max=np.reshape(mat1,(5,3,1))"
   ]
  },
  {
   "cell_type": "code",
   "execution_count": 26,
   "metadata": {},
   "outputs": [
    {
     "data": {
      "text/plain": [
       "array([[[3],\n",
       "        [8],\n",
       "        [5]],\n",
       "\n",
       "       [[1],\n",
       "        [2],\n",
       "        [9]],\n",
       "\n",
       "       [[4],\n",
       "        [2],\n",
       "        [3]],\n",
       "\n",
       "       [[3],\n",
       "        [0],\n",
       "        [7]],\n",
       "\n",
       "       [[2],\n",
       "        [4],\n",
       "        [4]]])"
      ]
     },
     "execution_count": 26,
     "metadata": {},
     "output_type": "execute_result"
    }
   ],
   "source": [
    "max"
   ]
  },
  {
   "cell_type": "code",
   "execution_count": 27,
   "metadata": {},
   "outputs": [
    {
     "data": {
      "text/plain": [
       "array([[[258, 192,   9, 201,  93, 237],\n",
       "        [536, 720, 752, 272, 712, 632],\n",
       "        [ 50, 365,  85, 345, 280,  15]],\n",
       "\n",
       "       [[ 86,  64,   3,  67,  31,  79],\n",
       "        [134, 180, 188,  68, 178, 158],\n",
       "        [ 90, 657, 153, 621, 504,  27]],\n",
       "\n",
       "       [[344, 256,  12, 268, 124, 316],\n",
       "        [134, 180, 188,  68, 178, 158],\n",
       "        [ 30, 219,  51, 207, 168,   9]],\n",
       "\n",
       "       [[258, 192,   9, 201,  93, 237],\n",
       "        [  0,   0,   0,   0,   0,   0],\n",
       "        [ 70, 511, 119, 483, 392,  21]],\n",
       "\n",
       "       [[172, 128,   6, 134,  62, 158],\n",
       "        [268, 360, 376, 136, 356, 316],\n",
       "        [ 40, 292,  68, 276, 224,  12]]])"
      ]
     },
     "execution_count": 27,
     "metadata": {},
     "output_type": "execute_result"
    }
   ],
   "source": [
    "mat2*max"
   ]
  },
  {
   "cell_type": "code",
   "execution_count": 28,
   "metadata": {},
   "outputs": [],
   "source": [
    "mat1T=mat1.T"
   ]
  },
  {
   "cell_type": "code",
   "execution_count": 30,
   "metadata": {},
   "outputs": [
    {
     "data": {
      "text/plain": [
       "array([[3, 9, 0],\n",
       "       [8, 4, 7],\n",
       "       [5, 2, 2],\n",
       "       [1, 3, 4],\n",
       "       [2, 3, 4]])"
      ]
     },
     "execution_count": 30,
     "metadata": {},
     "output_type": "execute_result"
    }
   ],
   "source": [
    "mat1T"
   ]
  },
  {
   "cell_type": "code",
   "execution_count": 31,
   "metadata": {},
   "outputs": [
    {
     "data": {
      "text/plain": [
       "array([[ 861, 1002,  855,  507,  894,  948],\n",
       "       [1026, 1383,  519, 1155,  996,  969],\n",
       "       [ 584,  646,  237,  541,  445,  559],\n",
       "       [ 327,  626,  353,  445,  522,  328],\n",
       "       [ 413,  690,  356,  512,  553,  407]])"
      ]
     },
     "execution_count": 31,
     "metadata": {},
     "output_type": "execute_result"
    }
   ],
   "source": [
    "np.dot(mat1T,mat2)"
   ]
  },
  {
   "cell_type": "code",
   "execution_count": 32,
   "metadata": {},
   "outputs": [
    {
     "data": {
      "text/plain": [
       "array([[[3, 1, 4, 3, 2],\n",
       "        [8, 2, 2, 0, 4],\n",
       "        [5, 9, 3, 7, 4]]])"
      ]
     },
     "execution_count": 32,
     "metadata": {},
     "output_type": "execute_result"
    }
   ],
   "source": [
    "max.T"
   ]
  },
  {
   "cell_type": "code",
   "execution_count": null,
   "metadata": {},
   "outputs": [],
   "source": []
  }
 ],
 "metadata": {
  "kernelspec": {
   "display_name": "Python (evil)",
   "language": "python",
   "name": "evil"
  },
  "language_info": {
   "codemirror_mode": {
    "name": "ipython",
    "version": 3
   },
   "file_extension": ".py",
   "mimetype": "text/x-python",
   "name": "python",
   "nbconvert_exporter": "python",
   "pygments_lexer": "ipython3",
   "version": "3.7.6"
  }
 },
 "nbformat": 4,
 "nbformat_minor": 4
}
